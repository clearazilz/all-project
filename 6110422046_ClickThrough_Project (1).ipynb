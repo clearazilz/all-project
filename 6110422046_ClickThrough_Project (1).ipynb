{
  "nbformat": 4,
  "nbformat_minor": 0,
  "metadata": {
    "colab": {
      "name": "6110422046_ClickThrough Project.ipynb",
      "provenance": [],
      "collapsed_sections": [],
      "machine_shape": "hm"
    },
    "kernelspec": {
      "name": "python3",
      "display_name": "Python 3"
    }
  },
  "cells": [
    {
      "cell_type": "code",
      "metadata": {
        "id": "KfwycS-EN52Z",
        "colab_type": "code",
        "colab": {
          "base_uri": "https://localhost:8080/",
          "height": 122
        },
        "outputId": "45a95344-76d8-4f78-9ce2-7f42c5ce9b82"
      },
      "source": [
        "from google.colab import drive\n",
        "\n",
        "drive.mount('/content/gdrive')"
      ],
      "execution_count": null,
      "outputs": [
        {
          "output_type": "stream",
          "text": [
            "Go to this URL in a browser: https://accounts.google.com/o/oauth2/auth?client_id=947318989803-6bn6qk8qdgf4n4g3pfee6491hc0brc4i.apps.googleusercontent.com&redirect_uri=urn%3Aietf%3Awg%3Aoauth%3A2.0%3Aoob&scope=email%20https%3A%2F%2Fwww.googleapis.com%2Fauth%2Fdocs.test%20https%3A%2F%2Fwww.googleapis.com%2Fauth%2Fdrive%20https%3A%2F%2Fwww.googleapis.com%2Fauth%2Fdrive.photos.readonly%20https%3A%2F%2Fwww.googleapis.com%2Fauth%2Fpeopleapi.readonly&response_type=code\n",
            "\n",
            "Enter your authorization code:\n",
            "··········\n",
            "Mounted at /content/gdrive\n"
          ],
          "name": "stdout"
        }
      ]
    },
    {
      "cell_type": "markdown",
      "metadata": {
        "id": "KvasTXKQJ34L",
        "colab_type": "text"
      },
      "source": [
        "Sapharath Vanitchtunyasub ID: 6110422046"
      ]
    },
    {
      "cell_type": "code",
      "metadata": {
        "id": "onm_S1IwODvx",
        "colab_type": "code",
        "colab": {}
      },
      "source": [
        "import pandas as pd\n",
        "import numpy as np\n",
        "import seaborn as sns\n",
        "import matplotlib.pyplot as plt\n",
        "import random\n",
        "%matplotlib inline"
      ],
      "execution_count": null,
      "outputs": []
    },
    {
      "cell_type": "code",
      "metadata": {
        "id": "8lJfCYCohBtx",
        "colab_type": "code",
        "colab": {}
      },
      "source": [
        "n = 40428967\n",
        "sample_size = 200000\n",
        "skip_values = sorted(random.sample(range(1,n), n-sample_size))\n",
        "\n",
        "\n",
        "df = pd.read_csv('/content/gdrive/My Drive/train.csv',\n",
        "                 skiprows = skip_values,\n",
        "                 nrows=sample_size\n",
        "                )"
      ],
      "execution_count": null,
      "outputs": []
    },
    {
      "cell_type": "markdown",
      "metadata": {
        "id": "PeDotsxOuy-W",
        "colab_type": "text"
      },
      "source": [
        "# Exploratory Data Analysis"
      ]
    },
    {
      "cell_type": "code",
      "metadata": {
        "id": "bPShQ7GsOhJj",
        "colab_type": "code",
        "colab": {
          "base_uri": "https://localhost:8080/",
          "height": 224
        },
        "outputId": "abf6f8f1-5d05-4c9a-ccfa-fe4397cd92ff"
      },
      "source": [
        "df.head()"
      ],
      "execution_count": null,
      "outputs": [
        {
          "output_type": "execute_result",
          "data": {
            "text/html": [
              "<div>\n",
              "<style scoped>\n",
              "    .dataframe tbody tr th:only-of-type {\n",
              "        vertical-align: middle;\n",
              "    }\n",
              "\n",
              "    .dataframe tbody tr th {\n",
              "        vertical-align: top;\n",
              "    }\n",
              "\n",
              "    .dataframe thead th {\n",
              "        text-align: right;\n",
              "    }\n",
              "</style>\n",
              "<table border=\"1\" class=\"dataframe\">\n",
              "  <thead>\n",
              "    <tr style=\"text-align: right;\">\n",
              "      <th></th>\n",
              "      <th>id</th>\n",
              "      <th>click</th>\n",
              "      <th>hour</th>\n",
              "      <th>C1</th>\n",
              "      <th>banner_pos</th>\n",
              "      <th>site_id</th>\n",
              "      <th>site_domain</th>\n",
              "      <th>site_category</th>\n",
              "      <th>app_id</th>\n",
              "      <th>app_domain</th>\n",
              "      <th>app_category</th>\n",
              "      <th>device_id</th>\n",
              "      <th>device_ip</th>\n",
              "      <th>device_model</th>\n",
              "      <th>device_type</th>\n",
              "      <th>device_conn_type</th>\n",
              "      <th>C14</th>\n",
              "      <th>C15</th>\n",
              "      <th>C16</th>\n",
              "      <th>C17</th>\n",
              "      <th>C18</th>\n",
              "      <th>C19</th>\n",
              "      <th>C20</th>\n",
              "      <th>C21</th>\n",
              "    </tr>\n",
              "  </thead>\n",
              "  <tbody>\n",
              "    <tr>\n",
              "      <th>0</th>\n",
              "      <td>1016149303979082490</td>\n",
              "      <td>0</td>\n",
              "      <td>14102100</td>\n",
              "      <td>1005</td>\n",
              "      <td>0</td>\n",
              "      <td>85f751fd</td>\n",
              "      <td>c4e18dd6</td>\n",
              "      <td>50e219e0</td>\n",
              "      <td>39947756</td>\n",
              "      <td>2347f47a</td>\n",
              "      <td>cef3e649</td>\n",
              "      <td>b6d4d558</td>\n",
              "      <td>829d9a05</td>\n",
              "      <td>9735f427</td>\n",
              "      <td>1</td>\n",
              "      <td>3</td>\n",
              "      <td>17163</td>\n",
              "      <td>320</td>\n",
              "      <td>50</td>\n",
              "      <td>1955</td>\n",
              "      <td>3</td>\n",
              "      <td>163</td>\n",
              "      <td>100191</td>\n",
              "      <td>71</td>\n",
              "    </tr>\n",
              "    <tr>\n",
              "      <th>1</th>\n",
              "      <td>10164197238971868807</td>\n",
              "      <td>0</td>\n",
              "      <td>14102100</td>\n",
              "      <td>1005</td>\n",
              "      <td>0</td>\n",
              "      <td>85f751fd</td>\n",
              "      <td>c4e18dd6</td>\n",
              "      <td>50e219e0</td>\n",
              "      <td>e2fcccd2</td>\n",
              "      <td>5c5a694b</td>\n",
              "      <td>0f2161f8</td>\n",
              "      <td>9c475e75</td>\n",
              "      <td>93e4df35</td>\n",
              "      <td>ffe69079</td>\n",
              "      <td>1</td>\n",
              "      <td>0</td>\n",
              "      <td>20634</td>\n",
              "      <td>320</td>\n",
              "      <td>50</td>\n",
              "      <td>2374</td>\n",
              "      <td>3</td>\n",
              "      <td>39</td>\n",
              "      <td>-1</td>\n",
              "      <td>23</td>\n",
              "    </tr>\n",
              "    <tr>\n",
              "      <th>2</th>\n",
              "      <td>10173583813706565096</td>\n",
              "      <td>0</td>\n",
              "      <td>14102100</td>\n",
              "      <td>1005</td>\n",
              "      <td>0</td>\n",
              "      <td>5b08c53b</td>\n",
              "      <td>7687a86e</td>\n",
              "      <td>3e814130</td>\n",
              "      <td>ecad2386</td>\n",
              "      <td>7801e8d9</td>\n",
              "      <td>07d7df22</td>\n",
              "      <td>a99f214a</td>\n",
              "      <td>e2ff20da</td>\n",
              "      <td>0d2b4db4</td>\n",
              "      <td>1</td>\n",
              "      <td>0</td>\n",
              "      <td>19015</td>\n",
              "      <td>300</td>\n",
              "      <td>250</td>\n",
              "      <td>2162</td>\n",
              "      <td>2</td>\n",
              "      <td>39</td>\n",
              "      <td>-1</td>\n",
              "      <td>33</td>\n",
              "    </tr>\n",
              "    <tr>\n",
              "      <th>3</th>\n",
              "      <td>10193420035697339612</td>\n",
              "      <td>1</td>\n",
              "      <td>14102100</td>\n",
              "      <td>1005</td>\n",
              "      <td>1</td>\n",
              "      <td>d9750ee7</td>\n",
              "      <td>98572c79</td>\n",
              "      <td>f028772b</td>\n",
              "      <td>ecad2386</td>\n",
              "      <td>7801e8d9</td>\n",
              "      <td>07d7df22</td>\n",
              "      <td>a99f214a</td>\n",
              "      <td>ce8180a1</td>\n",
              "      <td>84ebbcd4</td>\n",
              "      <td>1</td>\n",
              "      <td>0</td>\n",
              "      <td>17753</td>\n",
              "      <td>320</td>\n",
              "      <td>50</td>\n",
              "      <td>1993</td>\n",
              "      <td>2</td>\n",
              "      <td>1063</td>\n",
              "      <td>-1</td>\n",
              "      <td>33</td>\n",
              "    </tr>\n",
              "    <tr>\n",
              "      <th>4</th>\n",
              "      <td>10200040028247656965</td>\n",
              "      <td>0</td>\n",
              "      <td>14102100</td>\n",
              "      <td>1005</td>\n",
              "      <td>0</td>\n",
              "      <td>1fbe01fe</td>\n",
              "      <td>f3845767</td>\n",
              "      <td>28905ebd</td>\n",
              "      <td>ecad2386</td>\n",
              "      <td>7801e8d9</td>\n",
              "      <td>07d7df22</td>\n",
              "      <td>a99f214a</td>\n",
              "      <td>a4d168b3</td>\n",
              "      <td>8a4875bd</td>\n",
              "      <td>1</td>\n",
              "      <td>0</td>\n",
              "      <td>15705</td>\n",
              "      <td>320</td>\n",
              "      <td>50</td>\n",
              "      <td>1722</td>\n",
              "      <td>0</td>\n",
              "      <td>35</td>\n",
              "      <td>100084</td>\n",
              "      <td>79</td>\n",
              "    </tr>\n",
              "  </tbody>\n",
              "</table>\n",
              "</div>"
            ],
            "text/plain": [
              "                     id  click      hour    C1  ...  C18   C19     C20 C21\n",
              "0   1016149303979082490      0  14102100  1005  ...    3   163  100191  71\n",
              "1  10164197238971868807      0  14102100  1005  ...    3    39      -1  23\n",
              "2  10173583813706565096      0  14102100  1005  ...    2    39      -1  33\n",
              "3  10193420035697339612      1  14102100  1005  ...    2  1063      -1  33\n",
              "4  10200040028247656965      0  14102100  1005  ...    0    35  100084  79\n",
              "\n",
              "[5 rows x 24 columns]"
            ]
          },
          "metadata": {
            "tags": []
          },
          "execution_count": 4
        }
      ]
    },
    {
      "cell_type": "code",
      "metadata": {
        "id": "C4VNlAEaRUYY",
        "colab_type": "code",
        "colab": {
          "base_uri": "https://localhost:8080/",
          "height": 34
        },
        "outputId": "123e8904-b702-459a-992c-3a411c65063f"
      },
      "source": [
        "df.shape"
      ],
      "execution_count": null,
      "outputs": [
        {
          "output_type": "execute_result",
          "data": {
            "text/plain": [
              "(200000, 24)"
            ]
          },
          "metadata": {
            "tags": []
          },
          "execution_count": 5
        }
      ]
    },
    {
      "cell_type": "code",
      "metadata": {
        "id": "M1jOnC8xSXwj",
        "colab_type": "code",
        "colab": {
          "base_uri": "https://localhost:8080/",
          "height": 317
        },
        "outputId": "6db825b8-4f38-4a1e-875e-659983b23e29"
      },
      "source": [
        "df.describe()"
      ],
      "execution_count": null,
      "outputs": [
        {
          "output_type": "execute_result",
          "data": {
            "text/html": [
              "<div>\n",
              "<style scoped>\n",
              "    .dataframe tbody tr th:only-of-type {\n",
              "        vertical-align: middle;\n",
              "    }\n",
              "\n",
              "    .dataframe tbody tr th {\n",
              "        vertical-align: top;\n",
              "    }\n",
              "\n",
              "    .dataframe thead th {\n",
              "        text-align: right;\n",
              "    }\n",
              "</style>\n",
              "<table border=\"1\" class=\"dataframe\">\n",
              "  <thead>\n",
              "    <tr style=\"text-align: right;\">\n",
              "      <th></th>\n",
              "      <th>id</th>\n",
              "      <th>click</th>\n",
              "      <th>hour</th>\n",
              "      <th>C1</th>\n",
              "      <th>banner_pos</th>\n",
              "      <th>device_type</th>\n",
              "      <th>device_conn_type</th>\n",
              "      <th>C14</th>\n",
              "      <th>C15</th>\n",
              "      <th>C16</th>\n",
              "      <th>C17</th>\n",
              "      <th>C18</th>\n",
              "      <th>C19</th>\n",
              "      <th>C20</th>\n",
              "      <th>C21</th>\n",
              "    </tr>\n",
              "  </thead>\n",
              "  <tbody>\n",
              "    <tr>\n",
              "      <th>count</th>\n",
              "      <td>2.000000e+05</td>\n",
              "      <td>200000.000000</td>\n",
              "      <td>2.000000e+05</td>\n",
              "      <td>200000.000000</td>\n",
              "      <td>200000.000000</td>\n",
              "      <td>200000.000000</td>\n",
              "      <td>200000.000000</td>\n",
              "      <td>200000.000000</td>\n",
              "      <td>200000.000000</td>\n",
              "      <td>200000.000000</td>\n",
              "      <td>200000.000000</td>\n",
              "      <td>200000.000000</td>\n",
              "      <td>200000.000000</td>\n",
              "      <td>200000.000000</td>\n",
              "      <td>200000.00000</td>\n",
              "    </tr>\n",
              "    <tr>\n",
              "      <th>mean</th>\n",
              "      <td>9.218081e+18</td>\n",
              "      <td>0.169135</td>\n",
              "      <td>1.410256e+07</td>\n",
              "      <td>1004.969350</td>\n",
              "      <td>0.288785</td>\n",
              "      <td>1.015935</td>\n",
              "      <td>0.331750</td>\n",
              "      <td>18827.827055</td>\n",
              "      <td>318.819780</td>\n",
              "      <td>60.086570</td>\n",
              "      <td>2111.077335</td>\n",
              "      <td>1.427740</td>\n",
              "      <td>228.667770</td>\n",
              "      <td>53271.442070</td>\n",
              "      <td>83.52411</td>\n",
              "    </tr>\n",
              "    <tr>\n",
              "      <th>std</th>\n",
              "      <td>5.331558e+18</td>\n",
              "      <td>0.374872</td>\n",
              "      <td>2.963766e+02</td>\n",
              "      <td>1.099144</td>\n",
              "      <td>0.507996</td>\n",
              "      <td>0.528765</td>\n",
              "      <td>0.853801</td>\n",
              "      <td>4980.542577</td>\n",
              "      <td>20.691162</td>\n",
              "      <td>47.029284</td>\n",
              "      <td>611.578026</td>\n",
              "      <td>1.325808</td>\n",
              "      <td>352.505948</td>\n",
              "      <td>49953.538946</td>\n",
              "      <td>70.40739</td>\n",
              "    </tr>\n",
              "    <tr>\n",
              "      <th>min</th>\n",
              "      <td>3.992732e+14</td>\n",
              "      <td>0.000000</td>\n",
              "      <td>1.410210e+07</td>\n",
              "      <td>1001.000000</td>\n",
              "      <td>0.000000</td>\n",
              "      <td>0.000000</td>\n",
              "      <td>0.000000</td>\n",
              "      <td>375.000000</td>\n",
              "      <td>120.000000</td>\n",
              "      <td>20.000000</td>\n",
              "      <td>112.000000</td>\n",
              "      <td>0.000000</td>\n",
              "      <td>33.000000</td>\n",
              "      <td>-1.000000</td>\n",
              "      <td>1.00000</td>\n",
              "    </tr>\n",
              "    <tr>\n",
              "      <th>25%</th>\n",
              "      <td>4.602054e+18</td>\n",
              "      <td>0.000000</td>\n",
              "      <td>1.410230e+07</td>\n",
              "      <td>1005.000000</td>\n",
              "      <td>0.000000</td>\n",
              "      <td>1.000000</td>\n",
              "      <td>0.000000</td>\n",
              "      <td>16920.000000</td>\n",
              "      <td>320.000000</td>\n",
              "      <td>50.000000</td>\n",
              "      <td>1863.000000</td>\n",
              "      <td>0.000000</td>\n",
              "      <td>35.000000</td>\n",
              "      <td>-1.000000</td>\n",
              "      <td>23.00000</td>\n",
              "    </tr>\n",
              "    <tr>\n",
              "      <th>50%</th>\n",
              "      <td>9.204334e+18</td>\n",
              "      <td>0.000000</td>\n",
              "      <td>1.410260e+07</td>\n",
              "      <td>1005.000000</td>\n",
              "      <td>0.000000</td>\n",
              "      <td>1.000000</td>\n",
              "      <td>0.000000</td>\n",
              "      <td>20346.000000</td>\n",
              "      <td>320.000000</td>\n",
              "      <td>50.000000</td>\n",
              "      <td>2323.000000</td>\n",
              "      <td>2.000000</td>\n",
              "      <td>39.000000</td>\n",
              "      <td>100050.000000</td>\n",
              "      <td>61.00000</td>\n",
              "    </tr>\n",
              "    <tr>\n",
              "      <th>75%</th>\n",
              "      <td>1.383797e+19</td>\n",
              "      <td>0.000000</td>\n",
              "      <td>1.410281e+07</td>\n",
              "      <td>1005.000000</td>\n",
              "      <td>1.000000</td>\n",
              "      <td>1.000000</td>\n",
              "      <td>0.000000</td>\n",
              "      <td>21894.000000</td>\n",
              "      <td>320.000000</td>\n",
              "      <td>50.000000</td>\n",
              "      <td>2526.000000</td>\n",
              "      <td>3.000000</td>\n",
              "      <td>171.000000</td>\n",
              "      <td>100094.000000</td>\n",
              "      <td>104.00000</td>\n",
              "    </tr>\n",
              "    <tr>\n",
              "      <th>max</th>\n",
              "      <td>1.844647e+19</td>\n",
              "      <td>1.000000</td>\n",
              "      <td>1.410302e+07</td>\n",
              "      <td>1012.000000</td>\n",
              "      <td>7.000000</td>\n",
              "      <td>5.000000</td>\n",
              "      <td>5.000000</td>\n",
              "      <td>24043.000000</td>\n",
              "      <td>1024.000000</td>\n",
              "      <td>1024.000000</td>\n",
              "      <td>2757.000000</td>\n",
              "      <td>3.000000</td>\n",
              "      <td>1839.000000</td>\n",
              "      <td>100248.000000</td>\n",
              "      <td>255.00000</td>\n",
              "    </tr>\n",
              "  </tbody>\n",
              "</table>\n",
              "</div>"
            ],
            "text/plain": [
              "                 id          click  ...            C20           C21\n",
              "count  2.000000e+05  200000.000000  ...  200000.000000  200000.00000\n",
              "mean   9.218081e+18       0.169135  ...   53271.442070      83.52411\n",
              "std    5.331558e+18       0.374872  ...   49953.538946      70.40739\n",
              "min    3.992732e+14       0.000000  ...      -1.000000       1.00000\n",
              "25%    4.602054e+18       0.000000  ...      -1.000000      23.00000\n",
              "50%    9.204334e+18       0.000000  ...  100050.000000      61.00000\n",
              "75%    1.383797e+19       0.000000  ...  100094.000000     104.00000\n",
              "max    1.844647e+19       1.000000  ...  100248.000000     255.00000\n",
              "\n",
              "[8 rows x 15 columns]"
            ]
          },
          "metadata": {
            "tags": []
          },
          "execution_count": 6
        }
      ]
    },
    {
      "cell_type": "code",
      "metadata": {
        "id": "IjwXO2DKV3kx",
        "colab_type": "code",
        "colab": {
          "base_uri": "https://localhost:8080/",
          "height": 510
        },
        "outputId": "3c3d32a5-3490-4561-d449-f5adc8c2c58d"
      },
      "source": [
        "df.info()"
      ],
      "execution_count": null,
      "outputs": [
        {
          "output_type": "stream",
          "text": [
            "<class 'pandas.core.frame.DataFrame'>\n",
            "RangeIndex: 200000 entries, 0 to 199999\n",
            "Data columns (total 24 columns):\n",
            "id                  200000 non-null uint64\n",
            "click               200000 non-null int64\n",
            "hour                200000 non-null int64\n",
            "C1                  200000 non-null int64\n",
            "banner_pos          200000 non-null int64\n",
            "site_id             200000 non-null object\n",
            "site_domain         200000 non-null object\n",
            "site_category       200000 non-null object\n",
            "app_id              200000 non-null object\n",
            "app_domain          200000 non-null object\n",
            "app_category        200000 non-null object\n",
            "device_id           200000 non-null object\n",
            "device_ip           200000 non-null object\n",
            "device_model        200000 non-null object\n",
            "device_type         200000 non-null int64\n",
            "device_conn_type    200000 non-null int64\n",
            "C14                 200000 non-null int64\n",
            "C15                 200000 non-null int64\n",
            "C16                 200000 non-null int64\n",
            "C17                 200000 non-null int64\n",
            "C18                 200000 non-null int64\n",
            "C19                 200000 non-null int64\n",
            "C20                 200000 non-null int64\n",
            "C21                 200000 non-null int64\n",
            "dtypes: int64(14), object(9), uint64(1)\n",
            "memory usage: 36.6+ MB\n"
          ],
          "name": "stdout"
        }
      ]
    },
    {
      "cell_type": "code",
      "metadata": {
        "id": "BhL4t_1NSm8Q",
        "colab_type": "code",
        "colab": {
          "base_uri": "https://localhost:8080/",
          "height": 300
        },
        "outputId": "2068a32c-a8fa-41b9-d571-c763d9bc3489"
      },
      "source": [
        "sns.countplot(x='click', data=df)"
      ],
      "execution_count": null,
      "outputs": [
        {
          "output_type": "execute_result",
          "data": {
            "text/plain": [
              "<matplotlib.axes._subplots.AxesSubplot at 0x7f780f40e6a0>"
            ]
          },
          "metadata": {
            "tags": []
          },
          "execution_count": 7
        },
        {
          "output_type": "display_data",
          "data": {
            "image/png": "[encoded data removed]",
            "text/plain": [
              "<Figure size 432x288 with 1 Axes>"
            ]
          },
          "metadata": {
            "tags": []
          }
        }
      ]
    },
    {
      "cell_type": "code",
      "metadata": {
        "id": "N2qWuqCaTMA5",
        "colab_type": "code",
        "colab": {
          "base_uri": "https://localhost:8080/",
          "height": 300
        },
        "outputId": "12eedb89-ce6d-4300-e7f1-a537b8233858"
      },
      "source": [
        "sns.distplot(df['hour'])"
      ],
      "execution_count": null,
      "outputs": [
        {
          "output_type": "execute_result",
          "data": {
            "text/plain": [
              "<matplotlib.axes._subplots.AxesSubplot at 0x7f77b2665748>"
            ]
          },
          "metadata": {
            "tags": []
          },
          "execution_count": 8
        },
        {
          "output_type": "display_data",
          "data": {
            "image/png": "[encoded data removed]",
            "text/plain": [
              "<Figure size 432x288 with 1 Axes>"
            ]
          },
          "metadata": {
            "tags": []
          }
        }
      ]
    },
    {
      "cell_type": "code",
      "metadata": {
        "id": "HXSHGaAF-trd",
        "colab_type": "code",
        "colab": {
          "base_uri": "https://localhost:8080/",
          "height": 300
        },
        "outputId": "1214d714-958a-4f41-de56-b45b9729c597"
      },
      "source": [
        "sns.countplot(x='C1', data=df)"
      ],
      "execution_count": null,
      "outputs": [
        {
          "output_type": "execute_result",
          "data": {
            "text/plain": [
              "<matplotlib.axes._subplots.AxesSubplot at 0x7f77b2697400>"
            ]
          },
          "metadata": {
            "tags": []
          },
          "execution_count": 9
        },
        {
          "output_type": "display_data",
          "data": {
            "image/png": "[encoded data removed]",
            "text/plain": [
              "<Figure size 432x288 with 1 Axes>"
            ]
          },
          "metadata": {
            "tags": []
          }
        }
      ]
    },
    {
      "cell_type": "code",
      "metadata": {
        "id": "gJ1bl2SVCRjN",
        "colab_type": "code",
        "colab": {
          "base_uri": "https://localhost:8080/",
          "height": 301
        },
        "outputId": "607c8775-74ff-46d7-e414-6aed0a267623"
      },
      "source": [
        "sns.countplot(df['device_type'], data=df)"
      ],
      "execution_count": null,
      "outputs": [
        {
          "output_type": "execute_result",
          "data": {
            "text/plain": [
              "<matplotlib.axes._subplots.AxesSubplot at 0x7f77b25ba710>"
            ]
          },
          "metadata": {
            "tags": []
          },
          "execution_count": 10
        },
        {
          "output_type": "display_data",
          "data": {
            "image/png": "[encoded data removed]",
            "text/plain": [
              "<Figure size 432x288 with 1 Axes>"
            ]
          },
          "metadata": {
            "tags": []
          }
        }
      ]
    },
    {
      "cell_type": "code",
      "metadata": {
        "id": "504eR1dlEoFK",
        "colab_type": "code",
        "colab": {
          "base_uri": "https://localhost:8080/",
          "height": 301
        },
        "outputId": "f383d26f-0a15-423a-d773-e54df5edd750"
      },
      "source": [
        "sns.countplot(df['device_conn_type'], data=df)"
      ],
      "execution_count": null,
      "outputs": [
        {
          "output_type": "execute_result",
          "data": {
            "text/plain": [
              "<matplotlib.axes._subplots.AxesSubplot at 0x7f77b24e4e10>"
            ]
          },
          "metadata": {
            "tags": []
          },
          "execution_count": 11
        },
        {
          "output_type": "display_data",
          "data": {
            "image/png": "[encoded data removed]",
            "text/plain": [
              "<Figure size 432x288 with 1 Axes>"
            ]
          },
          "metadata": {
            "tags": []
          }
        }
      ]
    },
    {
      "cell_type": "markdown",
      "metadata": {
        "id": "xg4S8bR4AB6L",
        "colab_type": "text"
      },
      "source": [
        "**Label Encoder**"
      ]
    },
    {
      "cell_type": "code",
      "metadata": {
        "id": "ZDJ55LYBBdXR",
        "colab_type": "code",
        "colab": {}
      },
      "source": [
        "from sklearn import preprocessing\n",
        "label_encoder = preprocessing.LabelEncoder()"
      ],
      "execution_count": null,
      "outputs": []
    },
    {
      "cell_type": "code",
      "metadata": {
        "id": "Ug-UsB9aXzio",
        "colab_type": "code",
        "colab": {
          "base_uri": "https://localhost:8080/",
          "height": 68
        },
        "outputId": "4516cd67-f243-4e69-975a-fda909e89996"
      },
      "source": [
        "cv=df.dtypes.loc[df.dtypes=='object'].index\n",
        "print(cv)"
      ],
      "execution_count": null,
      "outputs": [
        {
          "output_type": "stream",
          "text": [
            "Index(['site_id', 'site_domain', 'site_category', 'app_id', 'app_domain',\n",
            "       'app_category', 'device_id', 'device_ip', 'device_model'],\n",
            "      dtype='object')\n"
          ],
          "name": "stdout"
        }
      ]
    },
    {
      "cell_type": "code",
      "metadata": {
        "id": "sWnzwr7AXIdi",
        "colab_type": "code",
        "colab": {}
      },
      "source": [
        "for i in cv:\n",
        "    df[i]=label_encoder.fit_transform(df[i])"
      ],
      "execution_count": null,
      "outputs": []
    },
    {
      "cell_type": "code",
      "metadata": {
        "id": "DjlLlwdnZmuI",
        "colab_type": "code",
        "colab": {}
      },
      "source": [
        "df['id'] = label_encoder.fit_transform(df['id'])"
      ],
      "execution_count": null,
      "outputs": []
    },
    {
      "cell_type": "code",
      "metadata": {
        "id": "b_3Y6_XRD7fv",
        "colab_type": "code",
        "colab": {
          "base_uri": "https://localhost:8080/",
          "height": 224
        },
        "outputId": "2f16f1c9-bea1-4d39-a445-bc60e87370b4"
      },
      "source": [
        "df.head()"
      ],
      "execution_count": null,
      "outputs": [
        {
          "output_type": "execute_result",
          "data": {
            "text/html": [
              "<div>\n",
              "<style scoped>\n",
              "    .dataframe tbody tr th:only-of-type {\n",
              "        vertical-align: middle;\n",
              "    }\n",
              "\n",
              "    .dataframe tbody tr th {\n",
              "        vertical-align: top;\n",
              "    }\n",
              "\n",
              "    .dataframe thead th {\n",
              "        text-align: right;\n",
              "    }\n",
              "</style>\n",
              "<table border=\"1\" class=\"dataframe\">\n",
              "  <thead>\n",
              "    <tr style=\"text-align: right;\">\n",
              "      <th></th>\n",
              "      <th>id</th>\n",
              "      <th>click</th>\n",
              "      <th>hour</th>\n",
              "      <th>C1</th>\n",
              "      <th>banner_pos</th>\n",
              "      <th>site_id</th>\n",
              "      <th>site_domain</th>\n",
              "      <th>site_category</th>\n",
              "      <th>app_id</th>\n",
              "      <th>app_domain</th>\n",
              "      <th>app_category</th>\n",
              "      <th>device_id</th>\n",
              "      <th>device_ip</th>\n",
              "      <th>device_model</th>\n",
              "      <th>device_type</th>\n",
              "      <th>device_conn_type</th>\n",
              "      <th>C14</th>\n",
              "      <th>C15</th>\n",
              "      <th>C16</th>\n",
              "      <th>C17</th>\n",
              "      <th>C18</th>\n",
              "      <th>C19</th>\n",
              "      <th>C20</th>\n",
              "      <th>C21</th>\n",
              "    </tr>\n",
              "  </thead>\n",
              "  <tbody>\n",
              "    <tr>\n",
              "      <th>0</th>\n",
              "      <td>11129</td>\n",
              "      <td>0</td>\n",
              "      <td>14102100</td>\n",
              "      <td>1005</td>\n",
              "      <td>0</td>\n",
              "      <td>946</td>\n",
              "      <td>1318</td>\n",
              "      <td>5</td>\n",
              "      <td>390</td>\n",
              "      <td>13</td>\n",
              "      <td>18</td>\n",
              "      <td>23543</td>\n",
              "      <td>73065</td>\n",
              "      <td>2252</td>\n",
              "      <td>1</td>\n",
              "      <td>3</td>\n",
              "      <td>17163</td>\n",
              "      <td>320</td>\n",
              "      <td>50</td>\n",
              "      <td>1955</td>\n",
              "      <td>3</td>\n",
              "      <td>163</td>\n",
              "      <td>100191</td>\n",
              "      <td>71</td>\n",
              "    </tr>\n",
              "    <tr>\n",
              "      <th>1</th>\n",
              "      <td>110212</td>\n",
              "      <td>0</td>\n",
              "      <td>14102100</td>\n",
              "      <td>1005</td>\n",
              "      <td>0</td>\n",
              "      <td>946</td>\n",
              "      <td>1318</td>\n",
              "      <td>5</td>\n",
              "      <td>1574</td>\n",
              "      <td>36</td>\n",
              "      <td>3</td>\n",
              "      <td>20069</td>\n",
              "      <td>82713</td>\n",
              "      <td>3767</td>\n",
              "      <td>1</td>\n",
              "      <td>0</td>\n",
              "      <td>20634</td>\n",
              "      <td>320</td>\n",
              "      <td>50</td>\n",
              "      <td>2374</td>\n",
              "      <td>3</td>\n",
              "      <td>39</td>\n",
              "      <td>-1</td>\n",
              "      <td>23</td>\n",
              "    </tr>\n",
              "    <tr>\n",
              "      <th>2</th>\n",
              "      <td>110326</td>\n",
              "      <td>0</td>\n",
              "      <td>14102100</td>\n",
              "      <td>1005</td>\n",
              "      <td>0</td>\n",
              "      <td>677</td>\n",
              "      <td>808</td>\n",
              "      <td>3</td>\n",
              "      <td>1651</td>\n",
              "      <td>47</td>\n",
              "      <td>0</td>\n",
              "      <td>21797</td>\n",
              "      <td>127185</td>\n",
              "      <td>201</td>\n",
              "      <td>1</td>\n",
              "      <td>0</td>\n",
              "      <td>19015</td>\n",
              "      <td>300</td>\n",
              "      <td>250</td>\n",
              "      <td>2162</td>\n",
              "      <td>2</td>\n",
              "      <td>39</td>\n",
              "      <td>-1</td>\n",
              "      <td>33</td>\n",
              "    </tr>\n",
              "    <tr>\n",
              "      <th>3</th>\n",
              "      <td>110532</td>\n",
              "      <td>1</td>\n",
              "      <td>14102100</td>\n",
              "      <td>1005</td>\n",
              "      <td>1</td>\n",
              "      <td>1526</td>\n",
              "      <td>1038</td>\n",
              "      <td>17</td>\n",
              "      <td>1651</td>\n",
              "      <td>47</td>\n",
              "      <td>0</td>\n",
              "      <td>21797</td>\n",
              "      <td>115581</td>\n",
              "      <td>1993</td>\n",
              "      <td>1</td>\n",
              "      <td>0</td>\n",
              "      <td>17753</td>\n",
              "      <td>320</td>\n",
              "      <td>50</td>\n",
              "      <td>1993</td>\n",
              "      <td>2</td>\n",
              "      <td>1063</td>\n",
              "      <td>-1</td>\n",
              "      <td>33</td>\n",
              "    </tr>\n",
              "    <tr>\n",
              "      <th>4</th>\n",
              "      <td>110597</td>\n",
              "      <td>0</td>\n",
              "      <td>14102100</td>\n",
              "      <td>1005</td>\n",
              "      <td>0</td>\n",
              "      <td>221</td>\n",
              "      <td>1611</td>\n",
              "      <td>1</td>\n",
              "      <td>1651</td>\n",
              "      <td>47</td>\n",
              "      <td>0</td>\n",
              "      <td>21797</td>\n",
              "      <td>92188</td>\n",
              "      <td>2062</td>\n",
              "      <td>1</td>\n",
              "      <td>0</td>\n",
              "      <td>15705</td>\n",
              "      <td>320</td>\n",
              "      <td>50</td>\n",
              "      <td>1722</td>\n",
              "      <td>0</td>\n",
              "      <td>35</td>\n",
              "      <td>100084</td>\n",
              "      <td>79</td>\n",
              "    </tr>\n",
              "  </tbody>\n",
              "</table>\n",
              "</div>"
            ],
            "text/plain": [
              "       id  click      hour    C1  banner_pos  ...   C17  C18   C19     C20  C21\n",
              "0   11129      0  14102100  1005           0  ...  1955    3   163  100191   71\n",
              "1  110212      0  14102100  1005           0  ...  2374    3    39      -1   23\n",
              "2  110326      0  14102100  1005           0  ...  2162    2    39      -1   33\n",
              "3  110532      1  14102100  1005           1  ...  1993    2  1063      -1   33\n",
              "4  110597      0  14102100  1005           0  ...  1722    0    35  100084   79\n",
              "\n",
              "[5 rows x 24 columns]"
            ]
          },
          "metadata": {
            "tags": []
          },
          "execution_count": 11
        }
      ]
    },
    {
      "cell_type": "code",
      "metadata": {
        "id": "hdm-lOPPWvIt",
        "colab_type": "code",
        "colab": {
          "base_uri": "https://localhost:8080/",
          "height": 510
        },
        "outputId": "43038bfe-d702-4d4b-de0c-258b2909f3e4"
      },
      "source": [
        "df.info()"
      ],
      "execution_count": null,
      "outputs": [
        {
          "output_type": "stream",
          "text": [
            "<class 'pandas.core.frame.DataFrame'>\n",
            "RangeIndex: 200000 entries, 0 to 199999\n",
            "Data columns (total 24 columns):\n",
            "id                  200000 non-null int64\n",
            "click               200000 non-null int64\n",
            "hour                200000 non-null int64\n",
            "C1                  200000 non-null int64\n",
            "banner_pos          200000 non-null int64\n",
            "site_id             200000 non-null int64\n",
            "site_domain         200000 non-null int64\n",
            "site_category       200000 non-null int64\n",
            "app_id              200000 non-null int64\n",
            "app_domain          200000 non-null int64\n",
            "app_category        200000 non-null int64\n",
            "device_id           200000 non-null int64\n",
            "device_ip           200000 non-null int64\n",
            "device_model        200000 non-null int64\n",
            "device_type         200000 non-null int64\n",
            "device_conn_type    200000 non-null int64\n",
            "C14                 200000 non-null int64\n",
            "C15                 200000 non-null int64\n",
            "C16                 200000 non-null int64\n",
            "C17                 200000 non-null int64\n",
            "C18                 200000 non-null int64\n",
            "C19                 200000 non-null int64\n",
            "C20                 200000 non-null int64\n",
            "C21                 200000 non-null int64\n",
            "dtypes: int64(24)\n",
            "memory usage: 36.6 MB\n"
          ],
          "name": "stdout"
        }
      ]
    },
    {
      "cell_type": "markdown",
      "metadata": {
        "id": "zY_Pi8vruVao",
        "colab_type": "text"
      },
      "source": [
        "# Random Forest Classification"
      ]
    },
    {
      "cell_type": "code",
      "metadata": {
        "id": "XyHjmCv4D92Q",
        "colab_type": "code",
        "colab": {}
      },
      "source": [
        "from sklearn.ensemble.forest import RandomForestClassifier\n",
        "from sklearn.feature_selection import SelectFromModel\n",
        "from sklearn.model_selection import train_test_split"
      ],
      "execution_count": null,
      "outputs": []
    },
    {
      "cell_type": "code",
      "metadata": {
        "id": "0gNgxvnXY2CI",
        "colab_type": "code",
        "colab": {
          "base_uri": "https://localhost:8080/",
          "height": 34
        },
        "outputId": "57c307ca-0f2b-42f3-b336-cddff83d47d1"
      },
      "source": [
        "X = df.drop(['id','click','site_id', 'app_id', 'device_id', 'device_ip'], axis=1)\n",
        "X.shape"
      ],
      "execution_count": null,
      "outputs": [
        {
          "output_type": "execute_result",
          "data": {
            "text/plain": [
              "(200000, 18)"
            ]
          },
          "metadata": {
            "tags": []
          },
          "execution_count": 14
        }
      ]
    },
    {
      "cell_type": "code",
      "metadata": {
        "id": "iC9L_H6JZDYY",
        "colab_type": "code",
        "colab": {
          "base_uri": "https://localhost:8080/",
          "height": 34
        },
        "outputId": "dcfa2084-1853-4b28-dc48-871c8a2b9123"
      },
      "source": [
        "y = df['click']\n",
        "y.shape"
      ],
      "execution_count": null,
      "outputs": [
        {
          "output_type": "execute_result",
          "data": {
            "text/plain": [
              "(200000,)"
            ]
          },
          "metadata": {
            "tags": []
          },
          "execution_count": 15
        }
      ]
    },
    {
      "cell_type": "code",
      "metadata": {
        "id": "EmqT29stIwK1",
        "colab_type": "code",
        "colab": {}
      },
      "source": [
        "X_train,X_test,y_train,y_test = train_test_split(X,y,test_size=0.3)"
      ],
      "execution_count": null,
      "outputs": []
    },
    {
      "cell_type": "code",
      "metadata": {
        "id": "xwuvSQVNS8DI",
        "colab_type": "code",
        "colab": {}
      },
      "source": [
        "clf = RandomForestClassifier(n_estimators=500, random_state=0, n_jobs=-1)"
      ],
      "execution_count": null,
      "outputs": []
    },
    {
      "cell_type": "code",
      "metadata": {
        "id": "PNnLgPesZdJh",
        "colab_type": "code",
        "colab": {
          "base_uri": "https://localhost:8080/",
          "height": 136
        },
        "outputId": "4f1fd099-06dc-4d46-fc47-bee3531b2b21"
      },
      "source": [
        "clf.fit(X_train, y_train)"
      ],
      "execution_count": null,
      "outputs": [
        {
          "output_type": "execute_result",
          "data": {
            "text/plain": [
              "RandomForestClassifier(bootstrap=True, class_weight=None, criterion='gini',\n",
              "                       max_depth=None, max_features='auto', max_leaf_nodes=None,\n",
              "                       min_impurity_decrease=0.0, min_impurity_split=None,\n",
              "                       min_samples_leaf=1, min_samples_split=2,\n",
              "                       min_weight_fraction_leaf=0.0, n_estimators=500,\n",
              "                       n_jobs=-1, oob_score=False, random_state=0, verbose=0,\n",
              "                       warm_start=False)"
            ]
          },
          "metadata": {
            "tags": []
          },
          "execution_count": 18
        }
      ]
    },
    {
      "cell_type": "code",
      "metadata": {
        "id": "BXH3mby4pfvs",
        "colab_type": "code",
        "colab": {}
      },
      "source": [
        "y_pred = clf.predict(X_test)"
      ],
      "execution_count": null,
      "outputs": []
    },
    {
      "cell_type": "markdown",
      "metadata": {
        "id": "hdA9yaR-vEbm",
        "colab_type": "text"
      },
      "source": [
        "**Model Performance**"
      ]
    },
    {
      "cell_type": "code",
      "metadata": {
        "id": "IjT5YBffpnzc",
        "colab_type": "code",
        "colab": {}
      },
      "source": [
        "from sklearn.metrics import accuracy_score, classification_report"
      ],
      "execution_count": null,
      "outputs": []
    },
    {
      "cell_type": "code",
      "metadata": {
        "id": "gq9LKZeXpj_s",
        "colab_type": "code",
        "colab": {
          "base_uri": "https://localhost:8080/",
          "height": 34
        },
        "outputId": "4303b56d-d65e-4365-d93e-d7c71fc6519b"
      },
      "source": [
        "accuracy_score(y_test, y_pred)"
      ],
      "execution_count": null,
      "outputs": [
        {
          "output_type": "execute_result",
          "data": {
            "text/plain": [
              "0.8035833333333333"
            ]
          },
          "metadata": {
            "tags": []
          },
          "execution_count": 21
        }
      ]
    },
    {
      "cell_type": "code",
      "metadata": {
        "id": "yV2E7uxusEny",
        "colab_type": "code",
        "colab": {
          "base_uri": "https://localhost:8080/",
          "height": 170
        },
        "outputId": "b6d172ac-c399-4a7e-cd10-a7881d6d564a"
      },
      "source": [
        "print(classification_report(y_test, y_pred))"
      ],
      "execution_count": null,
      "outputs": [
        {
          "output_type": "stream",
          "text": [
            "              precision    recall  f1-score   support\n",
            "\n",
            "           0       0.85      0.93      0.89     49873\n",
            "           1       0.34      0.17      0.23     10127\n",
            "\n",
            "    accuracy                           0.80     60000\n",
            "   macro avg       0.59      0.55      0.56     60000\n",
            "weighted avg       0.76      0.80      0.78     60000\n",
            "\n"
          ],
          "name": "stdout"
        }
      ]
    },
    {
      "cell_type": "markdown",
      "metadata": {
        "id": "7TX1RRbgvR9O",
        "colab_type": "text"
      },
      "source": [
        "**Find Feature Importance**"
      ]
    },
    {
      "cell_type": "code",
      "metadata": {
        "id": "kvtTAx34ZfqO",
        "colab_type": "code",
        "colab": {
          "base_uri": "https://localhost:8080/",
          "height": 323
        },
        "outputId": "e3a4e121-ea52-4a16-bdb8-b423bc3ede64"
      },
      "source": [
        "for feature in zip(X.columns, clf.feature_importances_):\n",
        "    print(feature)"
      ],
      "execution_count": null,
      "outputs": [
        {
          "output_type": "stream",
          "text": [
            "('hour', 0.35736931777378234)\n",
            "('C1', 0.0028576650248517896)\n",
            "('banner_pos', 0.006551022610427872)\n",
            "('site_domain', 0.0552972666685725)\n",
            "('site_category', 0.013110587728550482)\n",
            "('app_domain', 0.011167458900714973)\n",
            "('app_category', 0.01183040604552435)\n",
            "('device_model', 0.2918470988333833)\n",
            "('device_type', 0.0025307355144878517)\n",
            "('device_conn_type', 0.011556045442368367)\n",
            "('C14', 0.09451953802113115)\n",
            "('C15', 0.00622478261696265)\n",
            "('C16', 0.01053320441783856)\n",
            "('C17', 0.023839207279801034)\n",
            "('C18', 0.0076078746876731855)\n",
            "('C19', 0.016198504492335748)\n",
            "('C20', 0.057994852089118046)\n",
            "('C21', 0.01896443185247581)\n"
          ],
          "name": "stdout"
        }
      ]
    },
    {
      "cell_type": "code",
      "metadata": {
        "id": "YPdYvCPRk1PW",
        "colab_type": "code",
        "colab": {}
      },
      "source": [
        "sfm = SelectFromModel(clf, threshold=0.05)"
      ],
      "execution_count": null,
      "outputs": []
    },
    {
      "cell_type": "code",
      "metadata": {
        "id": "0lBymUxWlkkp",
        "colab_type": "code",
        "colab": {
          "base_uri": "https://localhost:8080/",
          "height": 289
        },
        "outputId": "acb20b69-84d0-4ded-9475-4335bbc81c9d"
      },
      "source": [
        "sfm.fit(X_train, y_train)"
      ],
      "execution_count": null,
      "outputs": [
        {
          "output_type": "execute_result",
          "data": {
            "text/plain": [
              "SelectFromModel(estimator=RandomForestClassifier(bootstrap=True,\n",
              "                                                 class_weight=None,\n",
              "                                                 criterion='gini',\n",
              "                                                 max_depth=None,\n",
              "                                                 max_features='auto',\n",
              "                                                 max_leaf_nodes=None,\n",
              "                                                 min_impurity_decrease=0.0,\n",
              "                                                 min_impurity_split=None,\n",
              "                                                 min_samples_leaf=1,\n",
              "                                                 min_samples_split=2,\n",
              "                                                 min_weight_fraction_leaf=0.0,\n",
              "                                                 n_estimators=500, n_jobs=-1,\n",
              "                                                 oob_score=False,\n",
              "                                                 random_state=0, verbose=0,\n",
              "                                                 warm_start=False),\n",
              "                max_features=None, norm_order=1, prefit=False, threshold=0.05)"
            ]
          },
          "metadata": {
            "tags": []
          },
          "execution_count": 25
        }
      ]
    },
    {
      "cell_type": "code",
      "metadata": {
        "id": "bOsJDAVlnula",
        "colab_type": "code",
        "colab": {
          "base_uri": "https://localhost:8080/",
          "height": 102
        },
        "outputId": "25b8f861-b718-4213-f1cd-f2558eddca15"
      },
      "source": [
        "for feature_list_index in sfm.get_support(indices=True):\n",
        "    print(X.columns[feature_list_index])"
      ],
      "execution_count": null,
      "outputs": [
        {
          "output_type": "stream",
          "text": [
            "hour\n",
            "site_domain\n",
            "device_model\n",
            "C14\n",
            "C20\n"
          ],
          "name": "stdout"
        }
      ]
    },
    {
      "cell_type": "code",
      "metadata": {
        "id": "IcmX5iXnoC80",
        "colab_type": "code",
        "colab": {}
      },
      "source": [
        "X_imp_train = sfm.transform(X_train)\n",
        "X_imp_test = sfm.transform(X_test)"
      ],
      "execution_count": null,
      "outputs": []
    },
    {
      "cell_type": "markdown",
      "metadata": {
        "id": "QF_Nkv5pALea",
        "colab_type": "text"
      },
      "source": [
        "# Random Forest Classification after selected Feature Importance"
      ]
    },
    {
      "cell_type": "code",
      "metadata": {
        "id": "TBqmpx-qo8EY",
        "colab_type": "code",
        "colab": {}
      },
      "source": [
        "clf_imp = RandomForestClassifier(n_estimators=500, random_state=0, n_jobs=-1)"
      ],
      "execution_count": null,
      "outputs": []
    },
    {
      "cell_type": "code",
      "metadata": {
        "id": "9ARC5kyOpGTy",
        "colab_type": "code",
        "colab": {
          "base_uri": "https://localhost:8080/",
          "height": 136
        },
        "outputId": "638d2928-f93d-4f61-9fe7-74f89c842f92"
      },
      "source": [
        "clf_imp.fit(X_imp_train, y_train)"
      ],
      "execution_count": null,
      "outputs": [
        {
          "output_type": "execute_result",
          "data": {
            "text/plain": [
              "RandomForestClassifier(bootstrap=True, class_weight=None, criterion='gini',\n",
              "                       max_depth=None, max_features='auto', max_leaf_nodes=None,\n",
              "                       min_impurity_decrease=0.0, min_impurity_split=None,\n",
              "                       min_samples_leaf=1, min_samples_split=2,\n",
              "                       min_weight_fraction_leaf=0.0, n_estimators=500,\n",
              "                       n_jobs=-1, oob_score=False, random_state=0, verbose=0,\n",
              "                       warm_start=False)"
            ]
          },
          "metadata": {
            "tags": []
          },
          "execution_count": 29
        }
      ]
    },
    {
      "cell_type": "code",
      "metadata": {
        "id": "7UdlPizhpOSs",
        "colab_type": "code",
        "colab": {}
      },
      "source": [
        "y_imp_pred = clf_imp.predict(X_imp_test)"
      ],
      "execution_count": null,
      "outputs": []
    },
    {
      "cell_type": "markdown",
      "metadata": {
        "id": "cs2LHdvpAWWo",
        "colab_type": "text"
      },
      "source": [
        "**Model Performance**"
      ]
    },
    {
      "cell_type": "code",
      "metadata": {
        "id": "OpGTysqlqChp",
        "colab_type": "code",
        "colab": {
          "base_uri": "https://localhost:8080/",
          "height": 34
        },
        "outputId": "a48ce759-68ee-4f7c-c3d5-bf775ba56f96"
      },
      "source": [
        "accuracy_score(y_test, y_imp_pred)"
      ],
      "execution_count": null,
      "outputs": [
        {
          "output_type": "execute_result",
          "data": {
            "text/plain": [
              "0.8054833333333333"
            ]
          },
          "metadata": {
            "tags": []
          },
          "execution_count": 31
        }
      ]
    },
    {
      "cell_type": "code",
      "metadata": {
        "id": "tbI0qE5oqQqz",
        "colab_type": "code",
        "colab": {
          "base_uri": "https://localhost:8080/",
          "height": 170
        },
        "outputId": "8d5a1360-2ac3-437e-f998-374606dfd247"
      },
      "source": [
        "print(classification_report(y_test, y_pred))"
      ],
      "execution_count": null,
      "outputs": [
        {
          "output_type": "stream",
          "text": [
            "              precision    recall  f1-score   support\n",
            "\n",
            "           0       0.85      0.93      0.89     49873\n",
            "           1       0.34      0.17      0.23     10127\n",
            "\n",
            "    accuracy                           0.80     60000\n",
            "   macro avg       0.59      0.55      0.56     60000\n",
            "weighted avg       0.76      0.80      0.78     60000\n",
            "\n"
          ],
          "name": "stdout"
        }
      ]
    },
    {
      "cell_type": "markdown",
      "metadata": {
        "id": "7YPd92g44cMq",
        "colab_type": "text"
      },
      "source": [
        "# Undersampling"
      ]
    },
    {
      "cell_type": "code",
      "metadata": {
        "id": "KV82STe6wC1N",
        "colab_type": "code",
        "colab": {
          "base_uri": "https://localhost:8080/",
          "height": 68
        },
        "outputId": "b3553c62-79dc-4506-827f-7018f2df68b2"
      },
      "source": [
        "df['click'].value_counts()"
      ],
      "execution_count": null,
      "outputs": [
        {
          "output_type": "execute_result",
          "data": {
            "text/plain": [
              "0    166173\n",
              "1     33827\n",
              "Name: click, dtype: int64"
            ]
          },
          "metadata": {
            "tags": []
          },
          "execution_count": 33
        }
      ]
    },
    {
      "cell_type": "code",
      "metadata": {
        "id": "qNmz-fbwyz7h",
        "colab_type": "code",
        "colab": {}
      },
      "source": [
        "from imblearn.under_sampling import RandomUnderSampler"
      ],
      "execution_count": null,
      "outputs": []
    },
    {
      "cell_type": "code",
      "metadata": {
        "id": "zKgBDRWRy2KI",
        "colab_type": "code",
        "colab": {}
      },
      "source": [
        "rus = RandomUnderSampler(random_state=0)"
      ],
      "execution_count": null,
      "outputs": []
    },
    {
      "cell_type": "code",
      "metadata": {
        "id": "aW_4yUfcy2pA",
        "colab_type": "code",
        "colab": {
          "base_uri": "https://localhost:8080/",
          "height": 51
        },
        "outputId": "3e79dbc7-5b51-4414-be6a-6bf953978e45"
      },
      "source": [
        "rus.fit(X, y)"
      ],
      "execution_count": null,
      "outputs": [
        {
          "output_type": "execute_result",
          "data": {
            "text/plain": [
              "RandomUnderSampler(random_state=0, ratio=None, replacement=False,\n",
              "                   return_indices=False, sampling_strategy='auto')"
            ]
          },
          "metadata": {
            "tags": []
          },
          "execution_count": 41
        }
      ]
    },
    {
      "cell_type": "code",
      "metadata": {
        "id": "Ecx3JFBzy2u3",
        "colab_type": "code",
        "colab": {}
      },
      "source": [
        "X_resample, y_resample = rus.fit_sample(X, y)"
      ],
      "execution_count": null,
      "outputs": []
    },
    {
      "cell_type": "code",
      "metadata": {
        "id": "kAJRufko2iUA",
        "colab_type": "code",
        "colab": {
          "base_uri": "https://localhost:8080/",
          "height": 34
        },
        "outputId": "7a7a1dc1-f4dd-4af6-9b89-d5c5797a883b"
      },
      "source": [
        "from collections import Counter\n",
        "print('Random undersampling {}'.format(Counter(y_resample)))"
      ],
      "execution_count": null,
      "outputs": [
        {
          "output_type": "stream",
          "text": [
            "Random undersampling Counter({0: 33827, 1: 33827})\n"
          ],
          "name": "stdout"
        }
      ]
    },
    {
      "cell_type": "code",
      "metadata": {
        "id": "nUJP6jse3Seo",
        "colab_type": "code",
        "colab": {}
      },
      "source": [
        "X_train,X_test,y_train,y_test = train_test_split(X_resample,y_resample,test_size=0.3)"
      ],
      "execution_count": null,
      "outputs": []
    },
    {
      "cell_type": "code",
      "metadata": {
        "id": "b2YKff4d5JJg",
        "colab_type": "code",
        "colab": {}
      },
      "source": [
        "clf = RandomForestClassifier(n_estimators=500, random_state=0, n_jobs=-1)"
      ],
      "execution_count": null,
      "outputs": []
    },
    {
      "cell_type": "code",
      "metadata": {
        "id": "i3k14RXm3bNg",
        "colab_type": "code",
        "colab": {
          "base_uri": "https://localhost:8080/",
          "height": 136
        },
        "outputId": "532e7bcc-0130-4a94-e8cf-2f083a344224"
      },
      "source": [
        "clf.fit(X_train, y_train)"
      ],
      "execution_count": null,
      "outputs": [
        {
          "output_type": "execute_result",
          "data": {
            "text/plain": [
              "RandomForestClassifier(bootstrap=True, class_weight=None, criterion='gini',\n",
              "                       max_depth=None, max_features='auto', max_leaf_nodes=None,\n",
              "                       min_impurity_decrease=0.0, min_impurity_split=None,\n",
              "                       min_samples_leaf=1, min_samples_split=2,\n",
              "                       min_weight_fraction_leaf=0.0, n_estimators=500,\n",
              "                       n_jobs=-1, oob_score=False, random_state=0, verbose=0,\n",
              "                       warm_start=False)"
            ]
          },
          "metadata": {
            "tags": []
          },
          "execution_count": 64
        }
      ]
    },
    {
      "cell_type": "code",
      "metadata": {
        "id": "hnpvoX0D3bWu",
        "colab_type": "code",
        "colab": {}
      },
      "source": [
        "y_pred = clf.predict(X_test)"
      ],
      "execution_count": null,
      "outputs": []
    },
    {
      "cell_type": "markdown",
      "metadata": {
        "id": "wWvvDOET4hOg",
        "colab_type": "text"
      },
      "source": [
        "**Model Performance**"
      ]
    },
    {
      "cell_type": "code",
      "metadata": {
        "id": "lV3ogyJV3oto",
        "colab_type": "code",
        "colab": {
          "base_uri": "https://localhost:8080/",
          "height": 34
        },
        "outputId": "6918a439-d239-4b9a-a3b7-cde3b3bc32ad"
      },
      "source": [
        "accuracy_score(y_test, y_pred)"
      ],
      "execution_count": null,
      "outputs": [
        {
          "output_type": "execute_result",
          "data": {
            "text/plain": [
              "0.6236389614228703"
            ]
          },
          "metadata": {
            "tags": []
          },
          "execution_count": 61
        }
      ]
    },
    {
      "cell_type": "code",
      "metadata": {
        "id": "OvsUK9zY3owD",
        "colab_type": "code",
        "colab": {
          "base_uri": "https://localhost:8080/",
          "height": 170
        },
        "outputId": "3b4f6c18-3adc-4687-edfa-4bc09fa46048"
      },
      "source": [
        "print(classification_report(y_test, y_pred))"
      ],
      "execution_count": null,
      "outputs": [
        {
          "output_type": "stream",
          "text": [
            "              precision    recall  f1-score   support\n",
            "\n",
            "           0       0.63      0.62      0.62     10164\n",
            "           1       0.62      0.63      0.63     10133\n",
            "\n",
            "    accuracy                           0.62     20297\n",
            "   macro avg       0.62      0.62      0.62     20297\n",
            "weighted avg       0.62      0.62      0.62     20297\n",
            "\n"
          ],
          "name": "stdout"
        }
      ]
    },
    {
      "cell_type": "markdown",
      "metadata": {
        "id": "WH1K-4JHDLlc",
        "colab_type": "text"
      },
      "source": [
        "# Result"
      ]
    },
    {
      "cell_type": "markdown",
      "metadata": {
        "id": "9XDPe9ZaAago",
        "colab_type": "text"
      },
      "source": [
        "              For this model, I sampled the data 200,000 samples from 40M records and used Random Forest Classification model for classified the data, I split the dataset to train/test by setting test set 0.3. \n",
        "              Model Performance from Random Forest Classification model\n",
        "              - The accuracy score = 80.62%, \n",
        "              - Classification report, the accuracy around 81%, precision and recall from class non-click is ok that is better than class click\n",
        "              \n",
        "              After that, I tried to find feature importance from Random Forest Classification and used SelectFromModel to select the features that feature_importance value is more than a threshold that I set so I got 5 features like hour, site_domain, device_model, C14, C20 and put this feature in Random Forest model again.\n",
        "              \n",
        "              Model Performance after select feature importance\n",
        "              - The accuracy score = 80.82%\n",
        "              - Classification report, the accuracy around 81%, precision and recall from class non-click is ok that is better than class click\n",
        "              \n",
        "              \n",
        "              From countplot of the number of clicks, the graph shows that the number of non-click is more than click around 120,000 records with this reason precision/recall of class click from classification report is lower than class non-click because it is imbalance class.\n",
        "              \n",
        "              Because of imbalance class, I used undersampling techniques for solve this problem and train/test model again.\n",
        "              Model Performance after undersampling\n",
        "              - The accuracy score = 62.36%\n",
        "              - Classification report, the accuracy around 62%, precision and recall from class non-click is close to class click\n",
        "              "
      ]
    },
    {
      "cell_type": "code",
      "metadata": {
        "id": "woWBjdLP7Rdy",
        "colab_type": "code",
        "colab": {}
      },
      "source": [
        ""
      ],
      "execution_count": null,
      "outputs": []
    }
  ]
}